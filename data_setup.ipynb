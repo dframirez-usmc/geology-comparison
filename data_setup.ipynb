{
 "cells": [
  {
   "cell_type": "markdown",
   "metadata": {},
   "source": [
    "### Data Science Case Study Options \n",
    "\n",
    "Please select and complete one of the following case studies. We are looking for you to show off your  machine learning and coding skills using Python or R. You are not required to use AWS in your solution,  but you are welcome to spin up an EC2 instance if you would like to. If you use any AWS services please  remember to terminate them after you complete the exercise. \n",
    "\n",
    "Please Note: \n",
    "- Do not post solution on GitHub or any other online public site \n",
    "- Submit a work sample that is comprehensive with respect to your thought process, code, findings,  and recommendations (ie a notebook with annotations). You may submit other documents if you wish. \n",
    "\n",
    "Please send the completed work sample at least 1 days prior to the virtual interview. On the day of the  interview you will need access to a laptop/desktop as you will be sharing your screen and going through  the work sample with the interviewer. \n",
    "Please send a document displaying your code, annotations, and thought process in a PDF to  kdalenbe@amazon.com and CC your recruiter at least 24 hours prior to your interview. \n",
    "\n",
    "## Option 2: Geological Image Similarity \n",
    "\n",
    "BACKGROUND \n",
    "A geology research company wants to create a tool for identifying interesting patterns in their imagery  data. This tool will possess a search capability whereby an analyst provides an image of interest and is  presented with other images which are similar to it.\n",
    "\n",
    "GOAL \n",
    "Your task is to create the machine learning component for this image similarity application. The machine  learning model should return the top K images that are most similar to this image based on a single  image input."
   ]
  },
  {
   "cell_type": "code",
   "execution_count": 1,
   "metadata": {},
   "outputs": [],
   "source": [
    "import os \n",
    "import shutil\n",
    "from PIL import Image\n",
    "import pandas as pd\n",
    "import pathlib\n",
    "import numpy as np"
   ]
  },
  {
   "cell_type": "code",
   "execution_count": 2,
   "metadata": {},
   "outputs": [
    {
     "name": "stdout",
     "output_type": "stream",
     "text": [
      "Project Folder:\n",
      "/home/david/Documents/projects/aws_geo_sim\n"
     ]
    }
   ],
   "source": [
    "cwd_path = os.getcwd()\n",
    "print('Project Folder:')\n",
    "print(cwd_path)"
   ]
  },
  {
   "cell_type": "raw",
   "metadata": {},
   "source": [
    "from urllib import request\n",
    "zip_url='http://aws-proserve-data-science.s3.amazonaws.com/geological_similarity.zip'\n",
    "zip_path = os.path.join(cwd_path,'geological_similarity.zip')\n",
    "request.urlretrieve(zip_url, zip_path)"
   ]
  },
  {
   "cell_type": "raw",
   "metadata": {},
   "source": [
    "import zipfile\n",
    "os.mkdir('data')\n",
    "with zipfile.ZipFile(zip_path, 'r') as zip_ref:\n",
    "    zip_ref.extractall('data')"
   ]
  },
  {
   "cell_type": "code",
   "execution_count": 3,
   "metadata": {},
   "outputs": [
    {
     "name": "stdout",
     "output_type": "stream",
     "text": [
      "(Success) Data Path:\n",
      "/home/david/Documents/projects/aws_geo_sim/data/geological_similarity\n"
     ]
    }
   ],
   "source": [
    "data_path = os.path.join(cwd_path,'data','geological_similarity')\n",
    "try:\n",
    "    if os.path.isdir(data_path)==True:\n",
    "        print('(Success) Data Path:')\n",
    "        print(data_path)\n",
    "    else:\n",
    "        raise FileNotFoundError\n",
    "except FileNotFoundError:\n",
    "    print('(ERROR) Extracted data folder is not found at:')\n",
    "    print(data_path)"
   ]
  },
  {
   "cell_type": "code",
   "execution_count": 4,
   "metadata": {},
   "outputs": [
    {
     "name": "stdout",
     "output_type": "stream",
     "text": [
      "(Success) Silly Mac files already removed.\n",
      "(Success) Silly Mac files already removed.\n"
     ]
    }
   ],
   "source": [
    "import shutil\n",
    "\n",
    "try:\n",
    "    silly_file = os.path.join(data_path,'.DS_Store')\n",
    "    if os.path.exists(silly_file):\n",
    "        os.remove(silly_file)\n",
    "        print('(Success) Removing silly Mac files.')\n",
    "    else:\n",
    "        raise FileNotFoundError\n",
    "except FileNotFoundError:\n",
    "    print('(Success) Silly Mac files already removed.')\n",
    "\n",
    "try:\n",
    "    silly_path = os.path.join(cwd_path,'data','__MACOSX')\n",
    "    if os.path.exists(silly_path):\n",
    "        shutil.rmtree(silly_path)\n",
    "        print('(Success) Removing silly Mac files.')\n",
    "    else:\n",
    "        raise FileNotFoundError\n",
    "except FileNotFoundError:\n",
    "    print('(Success) Silly Mac files already removed.')"
   ]
  },
  {
   "cell_type": "code",
   "execution_count": 5,
   "metadata": {},
   "outputs": [
    {
     "name": "stdout",
     "output_type": "stream",
     "text": [
      "Data Folders:\n",
      "/home/david/Documents/projects/aws_geo_sim/data/geological_similarity/schist\n",
      "/home/david/Documents/projects/aws_geo_sim/data/geological_similarity/quartzite\n",
      "/home/david/Documents/projects/aws_geo_sim/data/geological_similarity/andesite\n",
      "/home/david/Documents/projects/aws_geo_sim/data/geological_similarity/rhyolite\n",
      "/home/david/Documents/projects/aws_geo_sim/data/geological_similarity/gneiss\n",
      "/home/david/Documents/projects/aws_geo_sim/data/geological_similarity/marble\n",
      "Number of Image Files:\n",
      "29998\n"
     ]
    }
   ],
   "source": [
    "all_file_paths = []\n",
    "\n",
    "print('Data Folders:')\n",
    "for root, dirs, files in os.walk(data_path):\n",
    "    for name in dirs:\n",
    "        print(os.path.join(root, name))\n",
    "    for name in files:\n",
    "        all_file_paths.append(os.path.join(root, name))\n",
    "\n",
    "print('Number of Image Files:')\n",
    "print(len(all_file_paths))"
   ]
  },
  {
   "cell_type": "raw",
   "metadata": {},
   "source": [
    "# No exif information in any image file\n",
    "\n",
    "from exif import Image\n",
    "\n",
    "def get_metadata_single(img_path):\n",
    "    with open(img_path, 'rb') as img_file:\n",
    "        img = Image(img_file)\n",
    "        try:\n",
    "            if not img.has_exif:\n",
    "                raise TypeError\n",
    "            else:\n",
    "                df = pd.DataFrame(columns=['attribute', 'value'])\n",
    "                attr_list = img.list_all()\n",
    "\n",
    "                # Add image file name\n",
    "                df = df.append({'attribute': 'image_path',\n",
    "                            'value': img_path}, \n",
    "                            ignore_index=True)\n",
    "\n",
    "                for attr in attr_list:\n",
    "                    value = img.get(attr)\n",
    "                    dict_i = {'attribute': attr,\n",
    "                            'value': value}\n",
    "                    df = df.append(dict_i, ignore_index=True)\n",
    "\n",
    "                df.sort_values(by='attribute', inplace=True)\n",
    "                df.set_index('attribute', inplace=True)\n",
    "                return df\n",
    "        except TypeError:\n",
    "            pass"
   ]
  },
  {
   "cell_type": "code",
   "execution_count": 6,
   "metadata": {},
   "outputs": [],
   "source": [
    "# Using PIL for speed vs OpenCV\n",
    "\n",
    "def get_metadata_single(img_path):\n",
    "    class_label = pathlib.PurePath(img_path).parent.name\n",
    "    img = Image.open(img_path)\n",
    "    width, height = img.size\n",
    "    color_space = img.mode\n",
    "    colors = len(img.getbands())\n",
    "\n",
    "    # Add image file name\n",
    "    dic = {'image_path': img_path,\n",
    "            'class': class_label,\n",
    "            'width': width,\n",
    "            'height': height,\n",
    "            'color': color_space,\n",
    "            'channels': colors}\n",
    "\n",
    "    return dic"
   ]
  },
  {
   "cell_type": "code",
   "execution_count": 7,
   "metadata": {},
   "outputs": [
    {
     "data": {
      "text/html": [
       "<div>\n",
       "<style scoped>\n",
       "    .dataframe tbody tr th:only-of-type {\n",
       "        vertical-align: middle;\n",
       "    }\n",
       "\n",
       "    .dataframe tbody tr th {\n",
       "        vertical-align: top;\n",
       "    }\n",
       "\n",
       "    .dataframe thead th {\n",
       "        text-align: right;\n",
       "    }\n",
       "</style>\n",
       "<table border=\"1\" class=\"dataframe\">\n",
       "  <thead>\n",
       "    <tr style=\"text-align: right;\">\n",
       "      <th></th>\n",
       "      <th>image_path</th>\n",
       "      <th>class</th>\n",
       "      <th>width</th>\n",
       "      <th>height</th>\n",
       "      <th>color</th>\n",
       "      <th>channels</th>\n",
       "    </tr>\n",
       "  </thead>\n",
       "  <tbody>\n",
       "    <tr>\n",
       "      <th>0</th>\n",
       "      <td>/home/david/Documents/projects/aws_geo_sim/dat...</td>\n",
       "      <td>schist</td>\n",
       "      <td>28</td>\n",
       "      <td>28</td>\n",
       "      <td>RGB</td>\n",
       "      <td>3</td>\n",
       "    </tr>\n",
       "    <tr>\n",
       "      <th>1</th>\n",
       "      <td>/home/david/Documents/projects/aws_geo_sim/dat...</td>\n",
       "      <td>schist</td>\n",
       "      <td>28</td>\n",
       "      <td>28</td>\n",
       "      <td>RGB</td>\n",
       "      <td>3</td>\n",
       "    </tr>\n",
       "    <tr>\n",
       "      <th>2</th>\n",
       "      <td>/home/david/Documents/projects/aws_geo_sim/dat...</td>\n",
       "      <td>schist</td>\n",
       "      <td>28</td>\n",
       "      <td>28</td>\n",
       "      <td>RGB</td>\n",
       "      <td>3</td>\n",
       "    </tr>\n",
       "    <tr>\n",
       "      <th>3</th>\n",
       "      <td>/home/david/Documents/projects/aws_geo_sim/dat...</td>\n",
       "      <td>schist</td>\n",
       "      <td>28</td>\n",
       "      <td>28</td>\n",
       "      <td>RGB</td>\n",
       "      <td>3</td>\n",
       "    </tr>\n",
       "    <tr>\n",
       "      <th>4</th>\n",
       "      <td>/home/david/Documents/projects/aws_geo_sim/dat...</td>\n",
       "      <td>schist</td>\n",
       "      <td>28</td>\n",
       "      <td>28</td>\n",
       "      <td>RGB</td>\n",
       "      <td>3</td>\n",
       "    </tr>\n",
       "    <tr>\n",
       "      <th>...</th>\n",
       "      <td>...</td>\n",
       "      <td>...</td>\n",
       "      <td>...</td>\n",
       "      <td>...</td>\n",
       "      <td>...</td>\n",
       "      <td>...</td>\n",
       "    </tr>\n",
       "    <tr>\n",
       "      <th>29993</th>\n",
       "      <td>/home/david/Documents/projects/aws_geo_sim/dat...</td>\n",
       "      <td>marble</td>\n",
       "      <td>28</td>\n",
       "      <td>28</td>\n",
       "      <td>RGB</td>\n",
       "      <td>3</td>\n",
       "    </tr>\n",
       "    <tr>\n",
       "      <th>29994</th>\n",
       "      <td>/home/david/Documents/projects/aws_geo_sim/dat...</td>\n",
       "      <td>marble</td>\n",
       "      <td>28</td>\n",
       "      <td>28</td>\n",
       "      <td>RGB</td>\n",
       "      <td>3</td>\n",
       "    </tr>\n",
       "    <tr>\n",
       "      <th>29995</th>\n",
       "      <td>/home/david/Documents/projects/aws_geo_sim/dat...</td>\n",
       "      <td>marble</td>\n",
       "      <td>28</td>\n",
       "      <td>28</td>\n",
       "      <td>RGB</td>\n",
       "      <td>3</td>\n",
       "    </tr>\n",
       "    <tr>\n",
       "      <th>29996</th>\n",
       "      <td>/home/david/Documents/projects/aws_geo_sim/dat...</td>\n",
       "      <td>marble</td>\n",
       "      <td>28</td>\n",
       "      <td>28</td>\n",
       "      <td>RGB</td>\n",
       "      <td>3</td>\n",
       "    </tr>\n",
       "    <tr>\n",
       "      <th>29997</th>\n",
       "      <td>/home/david/Documents/projects/aws_geo_sim/dat...</td>\n",
       "      <td>marble</td>\n",
       "      <td>28</td>\n",
       "      <td>28</td>\n",
       "      <td>RGB</td>\n",
       "      <td>3</td>\n",
       "    </tr>\n",
       "  </tbody>\n",
       "</table>\n",
       "<p>29998 rows × 6 columns</p>\n",
       "</div>"
      ],
      "text/plain": [
       "                                              image_path   class  width  \\\n",
       "0      /home/david/Documents/projects/aws_geo_sim/dat...  schist     28   \n",
       "1      /home/david/Documents/projects/aws_geo_sim/dat...  schist     28   \n",
       "2      /home/david/Documents/projects/aws_geo_sim/dat...  schist     28   \n",
       "3      /home/david/Documents/projects/aws_geo_sim/dat...  schist     28   \n",
       "4      /home/david/Documents/projects/aws_geo_sim/dat...  schist     28   \n",
       "...                                                  ...     ...    ...   \n",
       "29993  /home/david/Documents/projects/aws_geo_sim/dat...  marble     28   \n",
       "29994  /home/david/Documents/projects/aws_geo_sim/dat...  marble     28   \n",
       "29995  /home/david/Documents/projects/aws_geo_sim/dat...  marble     28   \n",
       "29996  /home/david/Documents/projects/aws_geo_sim/dat...  marble     28   \n",
       "29997  /home/david/Documents/projects/aws_geo_sim/dat...  marble     28   \n",
       "\n",
       "       height color  channels  \n",
       "0          28   RGB         3  \n",
       "1          28   RGB         3  \n",
       "2          28   RGB         3  \n",
       "3          28   RGB         3  \n",
       "4          28   RGB         3  \n",
       "...       ...   ...       ...  \n",
       "29993      28   RGB         3  \n",
       "29994      28   RGB         3  \n",
       "29995      28   RGB         3  \n",
       "29996      28   RGB         3  \n",
       "29997      28   RGB         3  \n",
       "\n",
       "[29998 rows x 6 columns]"
      ]
     },
     "execution_count": 7,
     "metadata": {},
     "output_type": "execute_result"
    }
   ],
   "source": [
    "list_of_dics = []\n",
    "for file_path in all_file_paths:\n",
    "    list_of_dics.append(get_metadata_single(file_path))\n",
    "\n",
    "imgs_df = pd.DataFrame.from_dict(list_of_dics)\n",
    "imgs_df"
   ]
  },
  {
   "cell_type": "code",
   "execution_count": 8,
   "metadata": {},
   "outputs": [
    {
     "name": "stdout",
     "output_type": "stream",
     "text": [
      "[28]\n",
      "[28]\n",
      "['RGB']\n",
      "[3]\n"
     ]
    }
   ],
   "source": [
    "print(imgs_df.width.unique())\n",
    "print(imgs_df.height.unique())\n",
    "print(imgs_df.color.unique())\n",
    "print(imgs_df.channels.unique())\n",
    "\n",
    "# All image data is consistently formatted\n",
    "# 28x28 pixel images are most similar to MNIST dataset"
   ]
  },
  {
   "cell_type": "code",
   "execution_count": 9,
   "metadata": {},
   "outputs": [
    {
     "name": "stdout",
     "output_type": "stream",
     "text": [
      "{'schist': 5000, 'quartzite': 5000, 'andesite': 5000, 'rhyolite': 5000, 'gneiss': 5000, 'marble': 4998}\n"
     ]
    },
    {
     "data": {
      "text/plain": [
       "schist       5000\n",
       "quartzite    5000\n",
       "andesite     5000\n",
       "rhyolite     5000\n",
       "gneiss       5000\n",
       "marble       4998\n",
       "Name: class, dtype: int64"
      ]
     },
     "execution_count": 9,
     "metadata": {},
     "output_type": "execute_result"
    }
   ],
   "source": [
    "type_counts = imgs_df['class'].value_counts()\n",
    "type_counts = dict(type_counts)\n",
    "print(type_counts)\n",
    "\n",
    "imgs_df['class'].value_counts()\n",
    "# Wow, very lucky classes are so well balanced..."
   ]
  }
 ],
 "metadata": {
  "kernelspec": {
   "display_name": "Python 3 (ipykernel)",
   "language": "python",
   "name": "python3"
  },
  "language_info": {
   "codemirror_mode": {
    "name": "ipython",
    "version": 3
   },
   "file_extension": ".py",
   "mimetype": "text/x-python",
   "name": "python",
   "nbconvert_exporter": "python",
   "pygments_lexer": "ipython3",
   "version": "3.10.5"
  },
  "vscode": {
   "interpreter": {
    "hash": "1567ca728aa0e930029ac608630a794be1052ce5d31dc7d9977b4c39a63380b5"
   }
  }
 },
 "nbformat": 4,
 "nbformat_minor": 4
}
